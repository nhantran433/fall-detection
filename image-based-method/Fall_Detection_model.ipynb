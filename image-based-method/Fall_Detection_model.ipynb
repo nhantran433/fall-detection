{
  "cells": [
    {
      "cell_type": "markdown",
      "metadata": {
        "id": "BU3DEesMPRMl"
      },
      "source": [
        "#Install Libraries"
      ]
    },
    {
      "cell_type": "code",
      "execution_count": null,
      "metadata": {
        "id": "mumNWjunCem5"
      },
      "outputs": [],
      "source": [
        "import locale\n",
        "def getpreferredencoding(do_setlocale = True):\n",
        " return \"UTF-8\"\n",
        "locale.getpreferredencoding = getpreferredencoding"
      ]
    },
    {
      "cell_type": "code",
      "execution_count": null,
      "metadata": {
        "colab": {
          "base_uri": "https://localhost:8080/"
        },
        "id": "SmN6d1AECPIU",
        "outputId": "13835e79-59e9-4469-885a-e8e6ddfecf57"
      },
      "outputs": [
        {
          "name": "stdout",
          "output_type": "stream",
          "text": [
            "Requirement already satisfied: transformers in /usr/local/lib/python3.10/dist-packages (4.42.4)\n",
            "Requirement already satisfied: torch in /usr/local/lib/python3.10/dist-packages (2.3.1+cu121)\n",
            "Requirement already satisfied: torchvision in /usr/local/lib/python3.10/dist-packages (0.18.1+cu121)\n",
            "Requirement already satisfied: scikit-learn in /usr/local/lib/python3.10/dist-packages (1.3.2)\n",
            "Requirement already satisfied: filelock in /usr/local/lib/python3.10/dist-packages (from transformers) (3.15.4)\n",
            "Requirement already satisfied: huggingface-hub<1.0,>=0.23.2 in /usr/local/lib/python3.10/dist-packages (from transformers) (0.23.5)\n",
            "Requirement already satisfied: numpy<2.0,>=1.17 in /usr/local/lib/python3.10/dist-packages (from transformers) (1.26.4)\n",
            "Requirement already satisfied: packaging>=20.0 in /usr/local/lib/python3.10/dist-packages (from transformers) (24.1)\n",
            "Requirement already satisfied: pyyaml>=5.1 in /usr/local/lib/python3.10/dist-packages (from transformers) (6.0.2)\n",
            "Requirement already satisfied: regex!=2019.12.17 in /usr/local/lib/python3.10/dist-packages (from transformers) (2024.5.15)\n",
            "Requirement already satisfied: requests in /usr/local/lib/python3.10/dist-packages (from transformers) (2.32.3)\n",
            "Requirement already satisfied: safetensors>=0.4.1 in /usr/local/lib/python3.10/dist-packages (from transformers) (0.4.4)\n",
            "Requirement already satisfied: tokenizers<0.20,>=0.19 in /usr/local/lib/python3.10/dist-packages (from transformers) (0.19.1)\n",
            "Requirement already satisfied: tqdm>=4.27 in /usr/local/lib/python3.10/dist-packages (from transformers) (4.66.5)\n",
            "Requirement already satisfied: typing-extensions>=4.8.0 in /usr/local/lib/python3.10/dist-packages (from torch) (4.12.2)\n",
            "Requirement already satisfied: sympy in /usr/local/lib/python3.10/dist-packages (from torch) (1.13.2)\n",
            "Requirement already satisfied: networkx in /usr/local/lib/python3.10/dist-packages (from torch) (3.3)\n",
            "Requirement already satisfied: jinja2 in /usr/local/lib/python3.10/dist-packages (from torch) (3.1.4)\n",
            "Requirement already satisfied: fsspec in /usr/local/lib/python3.10/dist-packages (from torch) (2024.6.1)\n",
            "Collecting nvidia-cuda-nvrtc-cu12==12.1.105 (from torch)\n",
            "  Using cached nvidia_cuda_nvrtc_cu12-12.1.105-py3-none-manylinux1_x86_64.whl.metadata (1.5 kB)\n",
            "Collecting nvidia-cuda-runtime-cu12==12.1.105 (from torch)\n",
            "  Using cached nvidia_cuda_runtime_cu12-12.1.105-py3-none-manylinux1_x86_64.whl.metadata (1.5 kB)\n",
            "Collecting nvidia-cuda-cupti-cu12==12.1.105 (from torch)\n",
            "  Using cached nvidia_cuda_cupti_cu12-12.1.105-py3-none-manylinux1_x86_64.whl.metadata (1.6 kB)\n",
            "Collecting nvidia-cudnn-cu12==8.9.2.26 (from torch)\n",
            "  Using cached nvidia_cudnn_cu12-8.9.2.26-py3-none-manylinux1_x86_64.whl.metadata (1.6 kB)\n",
            "Collecting nvidia-cublas-cu12==12.1.3.1 (from torch)\n",
            "  Using cached nvidia_cublas_cu12-12.1.3.1-py3-none-manylinux1_x86_64.whl.metadata (1.5 kB)\n",
            "Collecting nvidia-cufft-cu12==11.0.2.54 (from torch)\n",
            "  Using cached nvidia_cufft_cu12-11.0.2.54-py3-none-manylinux1_x86_64.whl.metadata (1.5 kB)\n",
            "Collecting nvidia-curand-cu12==10.3.2.106 (from torch)\n",
            "  Using cached nvidia_curand_cu12-10.3.2.106-py3-none-manylinux1_x86_64.whl.metadata (1.5 kB)\n",
            "Collecting nvidia-cusolver-cu12==11.4.5.107 (from torch)\n",
            "  Using cached nvidia_cusolver_cu12-11.4.5.107-py3-none-manylinux1_x86_64.whl.metadata (1.6 kB)\n",
            "Collecting nvidia-cusparse-cu12==12.1.0.106 (from torch)\n",
            "  Using cached nvidia_cusparse_cu12-12.1.0.106-py3-none-manylinux1_x86_64.whl.metadata (1.6 kB)\n",
            "Collecting nvidia-nccl-cu12==2.20.5 (from torch)\n",
            "  Using cached nvidia_nccl_cu12-2.20.5-py3-none-manylinux2014_x86_64.whl.metadata (1.8 kB)\n",
            "Collecting nvidia-nvtx-cu12==12.1.105 (from torch)\n",
            "  Using cached nvidia_nvtx_cu12-12.1.105-py3-none-manylinux1_x86_64.whl.metadata (1.7 kB)\n",
            "Requirement already satisfied: triton==2.3.1 in /usr/local/lib/python3.10/dist-packages (from torch) (2.3.1)\n",
            "Collecting nvidia-nvjitlink-cu12 (from nvidia-cusolver-cu12==11.4.5.107->torch)\n",
            "  Using cached nvidia_nvjitlink_cu12-12.6.20-py3-none-manylinux2014_x86_64.whl.metadata (1.5 kB)\n",
            "Requirement already satisfied: pillow!=8.3.*,>=5.3.0 in /usr/local/lib/python3.10/dist-packages (from torchvision) (9.4.0)\n",
            "Requirement already satisfied: scipy>=1.5.0 in /usr/local/lib/python3.10/dist-packages (from scikit-learn) (1.13.1)\n",
            "Requirement already satisfied: joblib>=1.1.1 in /usr/local/lib/python3.10/dist-packages (from scikit-learn) (1.4.2)\n",
            "Requirement already satisfied: threadpoolctl>=2.0.0 in /usr/local/lib/python3.10/dist-packages (from scikit-learn) (3.5.0)\n",
            "Requirement already satisfied: MarkupSafe>=2.0 in /usr/local/lib/python3.10/dist-packages (from jinja2->torch) (2.1.5)\n",
            "Requirement already satisfied: charset-normalizer<4,>=2 in /usr/local/lib/python3.10/dist-packages (from requests->transformers) (3.3.2)\n",
            "Requirement already satisfied: idna<4,>=2.5 in /usr/local/lib/python3.10/dist-packages (from requests->transformers) (3.7)\n",
            "Requirement already satisfied: urllib3<3,>=1.21.1 in /usr/local/lib/python3.10/dist-packages (from requests->transformers) (2.0.7)\n",
            "Requirement already satisfied: certifi>=2017.4.17 in /usr/local/lib/python3.10/dist-packages (from requests->transformers) (2024.7.4)\n",
            "Requirement already satisfied: mpmath<1.4,>=1.1.0 in /usr/local/lib/python3.10/dist-packages (from sympy->torch) (1.3.0)\n",
            "Using cached nvidia_cublas_cu12-12.1.3.1-py3-none-manylinux1_x86_64.whl (410.6 MB)\n",
            "Using cached nvidia_cuda_cupti_cu12-12.1.105-py3-none-manylinux1_x86_64.whl (14.1 MB)\n",
            "Using cached nvidia_cuda_nvrtc_cu12-12.1.105-py3-none-manylinux1_x86_64.whl (23.7 MB)\n",
            "Using cached nvidia_cuda_runtime_cu12-12.1.105-py3-none-manylinux1_x86_64.whl (823 kB)\n",
            "Using cached nvidia_cudnn_cu12-8.9.2.26-py3-none-manylinux1_x86_64.whl (731.7 MB)\n",
            "Using cached nvidia_cufft_cu12-11.0.2.54-py3-none-manylinux1_x86_64.whl (121.6 MB)\n",
            "Using cached nvidia_curand_cu12-10.3.2.106-py3-none-manylinux1_x86_64.whl (56.5 MB)\n",
            "Using cached nvidia_cusolver_cu12-11.4.5.107-py3-none-manylinux1_x86_64.whl (124.2 MB)\n",
            "Using cached nvidia_cusparse_cu12-12.1.0.106-py3-none-manylinux1_x86_64.whl (196.0 MB)\n",
            "Using cached nvidia_nccl_cu12-2.20.5-py3-none-manylinux2014_x86_64.whl (176.2 MB)\n",
            "Using cached nvidia_nvtx_cu12-12.1.105-py3-none-manylinux1_x86_64.whl (99 kB)\n",
            "Using cached nvidia_nvjitlink_cu12-12.6.20-py3-none-manylinux2014_x86_64.whl (19.7 MB)\n",
            "Installing collected packages: nvidia-nvtx-cu12, nvidia-nvjitlink-cu12, nvidia-nccl-cu12, nvidia-curand-cu12, nvidia-cufft-cu12, nvidia-cuda-runtime-cu12, nvidia-cuda-nvrtc-cu12, nvidia-cuda-cupti-cu12, nvidia-cublas-cu12, nvidia-cusparse-cu12, nvidia-cudnn-cu12, nvidia-cusolver-cu12\n",
            "Successfully installed nvidia-cublas-cu12-12.1.3.1 nvidia-cuda-cupti-cu12-12.1.105 nvidia-cuda-nvrtc-cu12-12.1.105 nvidia-cuda-runtime-cu12-12.1.105 nvidia-cudnn-cu12-8.9.2.26 nvidia-cufft-cu12-11.0.2.54 nvidia-curand-cu12-10.3.2.106 nvidia-cusolver-cu12-11.4.5.107 nvidia-cusparse-cu12-12.1.0.106 nvidia-nccl-cu12-2.20.5 nvidia-nvjitlink-cu12-12.6.20 nvidia-nvtx-cu12-12.1.105\n"
          ]
        }
      ],
      "source": [
        "!pip install transformers torch torchvision scikit-learn"
      ]
    },
    {
      "cell_type": "markdown",
      "metadata": {
        "id": "2lmGGmVdmdc2"
      },
      "source": [
        "#Import libraries"
      ]
    },
    {
      "cell_type": "code",
      "execution_count": null,
      "metadata": {
        "id": "NkgecdmGwDwD"
      },
      "outputs": [],
      "source": [
        "import os\n",
        "import numpy as np\n",
        "import cv2\n",
        "from PIL import Image\n",
        "from collections import Counter\n",
        "from sklearn import svm\n",
        "from sklearn.model_selection import train_test_split\n",
        "from sklearn.metrics import classification_report, accuracy_score\n",
        "from sklearn.preprocessing import StandardScaler\n",
        "from sklearn.pipeline import make_pipeline\n",
        "from sklearn.decomposition import PCA\n",
        "from sklearn.metrics import confusion_matrix,ConfusionMatrixDisplay\n",
        "from sklearn.neighbors import KNeighborsClassifier\n",
        "from sklearn. ensemble import RandomForestClassifier\n",
        "import pickle\n",
        "from sklearn.utils import class_weight\n",
        "from shutil import rmtree"
      ]
    },
    {
      "cell_type": "markdown",
      "metadata": {
        "id": "Wq2UdTCgvrYM"
      },
      "source": [
        "#Visualization the image-predicted_label and grouth_truth"
      ]
    },
    {
      "cell_type": "code",
      "execution_count": null,
      "metadata": {
        "id": "BKT2vJgQPXbr"
      },
      "outputs": [],
      "source": [
        "class_names = ['Fall', 'Not Fall']"
      ]
    },
    {
      "cell_type": "code",
      "execution_count": null,
      "metadata": {
        "id": "Sf7USqiL7eBH"
      },
      "outputs": [],
      "source": [
        "import matplotlib.pyplot as plt\n",
        "import numpy as np\n",
        "import random\n",
        "\n",
        "def visualize_images(images, y_pred, y_true, n=5):\n",
        "    # Randomly select n samples from the dataset.\n",
        "    indices = random.sample(range(len(images)), n)\n",
        "\n",
        "    # Number of columns and number of rows\n",
        "    cols = 4\n",
        "    rows = (n + cols - 1) // cols\n",
        "\n",
        "    # Create a figure with rows rows and cols columns\n",
        "    fig, axes = plt.subplots(nrows=rows, ncols=cols, figsize=(15, rows * 3))\n",
        "\n",
        "    # If there are fewer images than the number of columns, special handling is needed.\n",
        "    axes = axes.flatten()  # Convert the axes array to 1D for easier iteration.\n",
        "\n",
        "    for i, idx in enumerate(indices):\n",
        "        ax = axes[i]\n",
        "\n",
        "        # Display the label in green.\n",
        "        ax.text(0.5, 1.15, f'True: {class_names[int(y_true[idx])]}', color='green', fontsize=12, ha='center', transform=ax.transAxes)\n",
        "\n",
        "        # Display the predicted results in red if they differ from label.\n",
        "        pred_color = 'red' if y_pred[idx] != y_true[idx] else 'green'\n",
        "        ax.text(0.5, 1.05, f'Predicted: {class_names[int(y_pred[idx])]}', color=pred_color, fontsize=12, ha='center', transform=ax.transAxes)\n",
        "\n",
        "        # Display image\n",
        "        ax.imshow(cv2.cvtColor(images[idx],cv2.COLOR_BGR2RGB))\n",
        "        ax.axis('off')  # Turn off axis display\n",
        "\n",
        "    # Hide unused axes if the number of images is not enough to fill the entire figure.\n",
        "    for j in range(i + 1, len(axes)):\n",
        "        axes[j].axis('off')\n",
        "\n",
        "    plt.tight_layout()\n",
        "    plt.show()"
      ]
    },
    {
      "cell_type": "markdown",
      "metadata": {
        "id": "X1po1ssamgO9"
      },
      "source": [
        "#Load dataset"
      ]
    },
    {
      "cell_type": "code",
      "execution_count": null,
      "metadata": {
        "id": "VUc9-8SlPaE9"
      },
      "outputs": [],
      "source": [
        "main_dir = './dataset'\n",
        "\n",
        "imges_dir = os.path.join(main_dir, 'images')\n",
        "labels_dir = os.path.join(main_dir, 'labels')\n",
        "\n",
        "name_img_files = os.listdir(imges_dir)\n",
        "name_label_files = os.listdir(labels_dir)\n",
        "\n",
        "name_img_files.sort()\n",
        "name_label_files.sort()"
      ]
    },
    {
      "cell_type": "code",
      "execution_count": null,
      "metadata": {
        "id": "AIrZkrcTu6jc"
      },
      "outputs": [],
      "source": [
        "def get_most_common_size_with_threshold(sizes,threshold = 0.25):\n",
        "  # Find the most common size.\n",
        "  size_counts = Counter(sizes)\n",
        "  total_images = len(sizes)\n",
        "  most_common_size = max(size_counts, key=size_counts.get)\n",
        "  if size_counts[most_common_size] / total_images < threshold:\n",
        "    most_common_size = None\n",
        "  return most_common_size"
      ]
    },
    {
      "cell_type": "code",
      "execution_count": null,
      "metadata": {
        "id": "nP5C_-KduERF"
      },
      "outputs": [],
      "source": [
        "def get_aspect_ratio(width, height):\n",
        "    return width / height\n",
        "\n",
        "def get_average_size_with_aspect_ratio(widths,heights):\n",
        "  average_width = int(np.mean(widths))\n",
        "  average_height = int(np.mean(heights))\n",
        "\n",
        "  # Find the most common aspect ratio.\n",
        "  aspect_ratios = [get_aspect_ratio(w, h) for w, h in zip(widths, heights)]\n",
        "  most_common_aspect_ratio = Counter(aspect_ratios).most_common(1)[0][0]\n",
        "\n",
        "  # Compute the new dimensions based on the most common aspect ratio.\n",
        "  if get_aspect_ratio(average_width, average_height) != most_common_aspect_ratio:\n",
        "      average_height = int(average_width / most_common_aspect_ratio)\n",
        "\n",
        "  return (average_width, average_height)\n",
        "\n"
      ]
    },
    {
      "cell_type": "code",
      "execution_count": null,
      "metadata": {
        "id": "6_xqys6zvZxH"
      },
      "outputs": [],
      "source": [
        "def get_suitable_size(sizes,widths,heights,threshold = 0.25):\n",
        "  # Find the most common size.\n",
        "  most_common_size = get_most_common_size_with_threshold(sizes,threshold)\n",
        "  if most_common_size is None:\n",
        "    most_common_size = get_average_size_with_aspect_ratio(widths,heights)\n",
        "  return most_common_size"
      ]
    },
    {
      "cell_type": "code",
      "execution_count": null,
      "metadata": {
        "id": "NxQ4K6Qi8h9P"
      },
      "outputs": [],
      "source": [
        "def custom_ceil(value):\n",
        "    fractional_part = value - np.floor(value)\n",
        "    if fractional_part > 0.5:\n",
        "        return np.ceil(value)\n",
        "    else:\n",
        "        return np.floor(value)\n",
        "\n",
        "def resize_to_nearest_power_of_two(image_size, min_dimension=7):\n",
        "    width, height = image_size\n",
        "\n",
        "    new_width = min_dimension * 2**custom_ceil(np.log2(width / min_dimension))\n",
        "    new_height = min_dimension * 2**custom_ceil(np.log2(height / min_dimension))\n",
        "\n",
        "    new_width = int(new_width)\n",
        "    new_height = int(new_height)\n",
        "\n",
        "    return (new_width,new_height)"
      ]
    },
    {
      "cell_type": "code",
      "execution_count": null,
      "metadata": {
        "id": "qYyqW3LNx0Yq"
      },
      "outputs": [],
      "source": [
        "def resize_image(images, size):\n",
        "    resized_images = []\n",
        "    for image in images:\n",
        "        resized_images.append(cv2.resize(image, size))\n",
        "    return resized_images"
      ]
    },
    {
      "cell_type": "markdown",
      "metadata": {
        "id": "qNpSfUBQ5zdA"
      },
      "source": [
        "Sử dụng Image_dataset_from_directory tiết kiệm dung lượng"
      ]
    },
    {
      "cell_type": "code",
      "execution_count": null,
      "metadata": {
        "id": "m74KNg8u53u-"
      },
      "outputs": [],
      "source": [
        "import os\n",
        "import cv2\n",
        "import tensorflow as tf\n",
        "from shutil import rmtree\n",
        "\n",
        "def save_image_to_directory(img, label, output_dir, img_name):\n",
        "    global class_names\n",
        "    # Create the label directory if it doesn't exist\n",
        "    label_dir = os.path.join(output_dir, str(class_names[label]))\n",
        "    os.makedirs(label_dir, exist_ok=True)\n",
        "\n",
        "    # Save the image in the corresponding label directory\n",
        "    img_path = os.path.join(label_dir, img_name)\n",
        "    cv2.imwrite(img_path, img)\n",
        "\n",
        "def create_data_label(images_dir, labels_dir, images_files, labels_files, folder='train', threshold=0.25, is_fall_value=0, output_dir='output'):\n",
        "    os.makedirs(output_dir, exist_ok=True)\n",
        "    # if os.path.exists(output_dir):\n",
        "    #     rmtree(output_dir)\n",
        "\n",
        "    face_img_sizes = []\n",
        "    face_img_heights = []\n",
        "    face_img_widths = []\n",
        "    num_faces = 0\n",
        "\n",
        "    for count, images_file in enumerate(images_files):\n",
        "        if images_file.endswith(('jpg', 'jpeg', 'png', 'gif', 'bmp')):\n",
        "            image_path = os.path.join(images_dir, folder, images_file) if folder is not None else os.path.join(images_dir, images_file)\n",
        "            img = cv2.imread(image_path)\n",
        "            if img is not None:\n",
        "                # Read the corresponding label file\n",
        "                label_path = os.path.join(labels_dir, folder, labels_files[count]) if folder is not None else os.path.join(labels_dir, labels_files[count])\n",
        "                with open(label_path, 'r') as file:\n",
        "                    r = file.readlines()\n",
        "\n",
        "                bounding_boxes = []\n",
        "                for values in r:\n",
        "                    value = values.split()\n",
        "                    bounding_boxes.append([int(value[0]), float(value[1]), float(value[2]), float(value[3]), float(value[4])])\n",
        "\n",
        "                for box in bounding_boxes:\n",
        "                    image_height, image_width, channels = img.shape\n",
        "\n",
        "                    # Get bounding box of the element (person)\n",
        "                    x_min = int(box[1] * image_width)\n",
        "                    y_min = int(box[2] * image_height)\n",
        "                    box_width = int(box[3] * image_width)\n",
        "                    box_height = int(box[4] * image_height)\n",
        "\n",
        "                    # Calculate crop limits (ensure not to exceed image boundaries).\n",
        "                    x_start = max(0, x_min - box_width // 2)\n",
        "                    y_start = max(0, y_min - box_height // 2)\n",
        "                    x_end = min(image_width, x_min + box_width // 2)\n",
        "                    y_end = min(image_height, y_min + box_height // 2)\n",
        "\n",
        "                    # Crop the image to get the element\n",
        "                    cropped_img = img[y_start:y_end, x_start:x_end]\n",
        "                    if cropped_img is not None and cropped_img.shape[0] > 0 and cropped_img.shape[1] > 0:\n",
        "                        label = int(box[0] != is_fall_value)\n",
        "                        # Save the cropped image into the appropriate folder\n",
        "                        save_image_to_directory(cropped_img, label, output_dir, f\"{images_file}_cropped_{count}.jpg\")\n",
        "\n",
        "                        # Track face sizes for determining suitable size\n",
        "                        height_face, width_face, _ = cropped_img.shape\n",
        "                        face_img_sizes.append((width_face, height_face))\n",
        "                        face_img_widths.append(width_face)\n",
        "                        face_img_heights.append(height_face)\n",
        "                        num_faces += 1\n",
        "\n",
        "    if num_faces == 0:\n",
        "        raise ValueError(\"No images found in the specified directory or the number of labels and images isn't the same.\")\n",
        "    return get_suitable_size(face_img_sizes, face_img_widths, face_img_heights, threshold)"
      ]
    },
    {
      "cell_type": "code",
      "execution_count": null,
      "metadata": {
        "id": "_L-BrtjpQAgn"
      },
      "outputs": [],
      "source": [
        "suitable_size = create_data_label(imges_dir,labels_dir,name_img_files,name_label_files,folder = None,is_fall_value = -1,output_dir = './dataset_tensorflow')"
      ]
    },
    {
      "cell_type": "code",
      "execution_count": null,
      "metadata": {
        "colab": {
          "base_uri": "https://localhost:8080/"
        },
        "id": "cd2G7eJsLVQg",
        "outputId": "3e1c7c18-6d26-4ebf-bb1d-0dc0b7ffb060"
      },
      "outputs": [
        {
          "data": {
            "text/plain": [
              "(224, 448)"
            ]
          },
          "execution_count": 116,
          "metadata": {},
          "output_type": "execute_result"
        }
      ],
      "source": [
        "resize_to_nearest_power_of_two((214, 428),7)"
      ]
    },
    {
      "cell_type": "markdown",
      "metadata": {
        "id": "YDBSMTIdt0Cq"
      },
      "source": [
        "#Evaluation model"
      ]
    },
    {
      "cell_type": "code",
      "execution_count": null,
      "metadata": {
        "id": "-eEFC-8ctzVm"
      },
      "outputs": [],
      "source": [
        "def evaluation_model(y_true,y_pred):\n",
        "  accuracy = accuracy_score(y_true, y_pred)\n",
        "  print(\"Accuracy:\", accuracy)\n",
        "\n",
        "  print(\"Classification Report:\")\n",
        "  print(classification_report(y_true, y_pred))\n",
        "\n",
        "  conf_mat = confusion_matrix(y_true, y_pred)\n",
        "  displ = ConfusionMatrixDisplay(confusion_matrix=conf_mat)\n",
        "  displ.plot()"
      ]
    },
    {
      "cell_type": "markdown",
      "metadata": {
        "id": "BzgzMO6gsd_-"
      },
      "source": [
        "#Model"
      ]
    },
    {
      "cell_type": "markdown",
      "metadata": {
        "id": "D2FvLpMGk7rq"
      },
      "source": [
        "##Deep Learning"
      ]
    },
    {
      "cell_type": "markdown",
      "metadata": {
        "id": "dm9pznxFot_G"
      },
      "source": [
        "###Neural Network"
      ]
    },
    {
      "cell_type": "code",
      "execution_count": null,
      "metadata": {
        "id": "bpefOFQ0lwbl"
      },
      "outputs": [],
      "source": [
        "import tensorflow as tf\n",
        "from tensorflow.keras.preprocessing import image_dataset_from_directory\n",
        "from tensorflow.keras import layers as L\n",
        "import keras\n",
        "from keras import regularizers\n",
        "from tensorflow.keras.models import Sequential\n",
        "from tensorflow.keras.layers import Dense, Flatten, Conv2D, MaxPooling2D, Dropout, BatchNormalization,Rescaling\n",
        "from tensorflow.keras.metrics import BinaryAccuracy, BinaryCrossentropy,categorical_crossentropy,categorical_accuracy\n",
        "from tensorflow.keras.callbacks import EarlyStopping, ReduceLROnPlateau, ModelCheckpoint\n",
        "from keras.src.applications import imagenet_utils\n",
        "from tensorflow.keras.applications import VGG16,MobileNetV2"
      ]
    },
    {
      "cell_type": "code",
      "execution_count": null,
      "metadata": {
        "id": "Wzfha9-tw4ja"
      },
      "outputs": [],
      "source": [
        "def compute_class_weights(y_train):\n",
        "    class_weights = class_weight.compute_class_weight(\n",
        "        'balanced',\n",
        "        classes=np.unique(y_train),\n",
        "        y=y_train\n",
        "    )\n",
        "    return dict(enumerate(class_weights))"
      ]
    },
    {
      "cell_type": "markdown",
      "metadata": {
        "id": "W2Kc-g6nLlM2"
      },
      "source": [
        "Dùng image_dataset_from_directory"
      ]
    },
    {
      "cell_type": "code",
      "execution_count": null,
      "metadata": {
        "id": "AROBaRLfLp3n"
      },
      "outputs": [],
      "source": [
        "batch_size = 32\n",
        "image_size = (448, 224)"
      ]
    },
    {
      "cell_type": "code",
      "execution_count": null,
      "metadata": {
        "colab": {
          "base_uri": "https://localhost:8080/"
        },
        "id": "6vv41Q3JLrZj",
        "outputId": "671cfc10-b765-410c-dfd0-e27c3a960706"
      },
      "outputs": [
        {
          "name": "stdout",
          "output_type": "stream",
          "text": [
            "Found 48086 files belonging to 2 classes.\n",
            "Using 38469 files for training.\n",
            "Found 48086 files belonging to 2 classes.\n",
            "Using 9617 files for validation.\n"
          ]
        }
      ],
      "source": [
        "train_ds = tf.keras.preprocessing.image_dataset_from_directory(\n",
        "    \"/content/dataset\",\n",
        "    validation_split=0.2,\n",
        "    subset=\"training\",\n",
        "    label_mode='binary' ,\n",
        "    #labels = n_classes,\n",
        "    interpolation = \"mitchellcubic\",\n",
        "    seed=42,\n",
        "    color_mode=\"rgb\",\n",
        "    image_size=image_size,\n",
        "    batch_size=batch_size\n",
        ")\n",
        "\n",
        "val_ds = tf.keras.preprocessing.image_dataset_from_directory(\n",
        "    \"/content/dataset\",\n",
        "    validation_split=0.2,\n",
        "    subset=\"validation\",\n",
        "    label_mode='binary' ,\n",
        "    #labels = n_classes,\n",
        "    interpolation = \"mitchellcubic\",\n",
        "    seed=42,\n",
        "    color_mode=\"rgb\",\n",
        "    image_size=image_size,\n",
        "    batch_size=batch_size\n",
        ")"
      ]
    },
    {
      "cell_type": "code",
      "execution_count": null,
      "metadata": {
        "id": "4hINLNtmL7Ay"
      },
      "outputs": [],
      "source": [
        "from sklearn.utils.class_weight import compute_class_weight\n",
        "# Lấy nhãn từ dataset\n",
        "labels = np.concatenate([y for x, y in train_ds], axis=0)\n",
        "\n"
      ]
    },
    {
      "cell_type": "code",
      "execution_count": null,
      "metadata": {
        "id": "6qKSGAu1RQMo"
      },
      "outputs": [],
      "source": [
        "labels = labels.ravel()\n",
        "\n",
        "# Tính toán class weights\n",
        "class_weights = compute_class_weight('balanced', classes=np.unique(labels), y=labels)\n",
        "class_weights_dict = dict(enumerate(class_weights))\n",
        "\n"
      ]
    },
    {
      "cell_type": "markdown",
      "metadata": {
        "id": "Lwts80nwRP-r"
      },
      "source": [
        "####MobileNet v2"
      ]
    },
    {
      "cell_type": "code",
      "execution_count": null,
      "metadata": {
        "id": "4me6QEBlRR7Z"
      },
      "outputs": [],
      "source": [
        "from tensorflow.keras.models import Model\n",
        "from tensorflow.keras.layers import Input, Rescaling, GlobalAveragePooling2D, Dense, Dropout\n",
        "from tensorflow.keras.applications import MobileNetV2\n",
        "\n",
        "def create_mobilenet_2_model(input_shape, num_classes):\n",
        "    # Load the pre-trained MobileNetV2 model\n",
        "    base_model = MobileNetV2(weights='imagenet', include_top=False, input_shape=input_shape)\n",
        "\n",
        "    # Freeze the layers of the base model\n",
        "    for layer in base_model.layers:\n",
        "        layer.trainable = False\n",
        "\n",
        "    # Define the input layer\n",
        "    inputs = Input(shape=input_shape)\n",
        "\n",
        "    # Add the Rescaling layer\n",
        "    x = Rescaling(1. / 255)(inputs)\n",
        "\n",
        "    # Add the base model\n",
        "    x = base_model(x)\n",
        "\n",
        "    # Add custom classification layers\n",
        "    x = GlobalAveragePooling2D()(x)\n",
        "    x = Dense(512, activation='mish')(x)\n",
        "    x = Dropout(0.5)(x)\n",
        "    x = Dense(512, activation='mish')(x)\n",
        "    x = Dropout(0.5)(x)\n",
        "    if num_classes == 2:\n",
        "        x = Dense(1, activation='sigmoid')(x)  # Binary classification\n",
        "    else:\n",
        "        x = Dense(num_classes, activation='softmax')(x)  # Multi-class classification\n",
        "\n",
        "    # Define the model\n",
        "    model = Model(inputs=inputs, outputs=x)\n",
        "\n",
        "    return model\n"
      ]
    },
    {
      "cell_type": "code",
      "execution_count": null,
      "metadata": {
        "colab": {
          "base_uri": "https://localhost:8080/",
          "height": 489
        },
        "id": "TzjgoIpMUYgf",
        "outputId": "3b3211e1-fa93-452a-c2e3-619a9a616a8a"
      },
      "outputs": [
        {
          "name": "stderr",
          "output_type": "stream",
          "text": [
            "<ipython-input-32-0d0921450882>:7: UserWarning: `input_shape` is undefined or non-square, or `rows` is not in [96, 128, 160, 192, 224]. Weights for input shape (224, 224) will be loaded as the default.\n",
            "  base_model = MobileNetV2(weights='imagenet', include_top=False, input_shape=input_shape)\n"
          ]
        },
        {
          "data": {
            "text/html": [
              "<pre style=\"white-space:pre;overflow-x:auto;line-height:normal;font-family:Menlo,'DejaVu Sans Mono',consolas,'Courier New',monospace\"><span style=\"font-weight: bold\">Model: \"functional_36\"</span>\n",
              "</pre>\n"
            ],
            "text/plain": [
              "\u001b[1mModel: \"functional_36\"\u001b[0m\n"
            ]
          },
          "metadata": {},
          "output_type": "display_data"
        },
        {
          "data": {
            "text/html": [
              "<pre style=\"white-space:pre;overflow-x:auto;line-height:normal;font-family:Menlo,'DejaVu Sans Mono',consolas,'Courier New',monospace\">┏━━━━━━━━━━━━━━━━━━━━━━━━━━━━━━━━━━━━━━┳━━━━━━━━━━━━━━━━━━━━━━━━━━━━━┳━━━━━━━━━━━━━━━━━┓\n",
              "┃<span style=\"font-weight: bold\"> Layer (type)                         </span>┃<span style=\"font-weight: bold\"> Output Shape                </span>┃<span style=\"font-weight: bold\">         Param # </span>┃\n",
              "┡━━━━━━━━━━━━━━━━━━━━━━━━━━━━━━━━━━━━━━╇━━━━━━━━━━━━━━━━━━━━━━━━━━━━━╇━━━━━━━━━━━━━━━━━┩\n",
              "│ input_layer_14 (<span style=\"color: #0087ff; text-decoration-color: #0087ff\">InputLayer</span>)          │ (<span style=\"color: #00d7ff; text-decoration-color: #00d7ff\">None</span>, <span style=\"color: #00af00; text-decoration-color: #00af00\">448</span>, <span style=\"color: #00af00; text-decoration-color: #00af00\">224</span>, <span style=\"color: #00af00; text-decoration-color: #00af00\">3</span>)         │               <span style=\"color: #00af00; text-decoration-color: #00af00\">0</span> │\n",
              "├──────────────────────────────────────┼─────────────────────────────┼─────────────────┤\n",
              "│ rescaling_4 (<span style=\"color: #0087ff; text-decoration-color: #0087ff\">Rescaling</span>)              │ (<span style=\"color: #00d7ff; text-decoration-color: #00d7ff\">None</span>, <span style=\"color: #00af00; text-decoration-color: #00af00\">448</span>, <span style=\"color: #00af00; text-decoration-color: #00af00\">224</span>, <span style=\"color: #00af00; text-decoration-color: #00af00\">3</span>)         │               <span style=\"color: #00af00; text-decoration-color: #00af00\">0</span> │\n",
              "├──────────────────────────────────────┼─────────────────────────────┼─────────────────┤\n",
              "│ mobilenetv2_1.00_224 (<span style=\"color: #0087ff; text-decoration-color: #0087ff\">Functional</span>)    │ (<span style=\"color: #00d7ff; text-decoration-color: #00d7ff\">None</span>, <span style=\"color: #00af00; text-decoration-color: #00af00\">14</span>, <span style=\"color: #00af00; text-decoration-color: #00af00\">7</span>, <span style=\"color: #00af00; text-decoration-color: #00af00\">1280</span>)         │       <span style=\"color: #00af00; text-decoration-color: #00af00\">2,257,984</span> │\n",
              "├──────────────────────────────────────┼─────────────────────────────┼─────────────────┤\n",
              "│ global_average_pooling2d_4           │ (<span style=\"color: #00d7ff; text-decoration-color: #00d7ff\">None</span>, <span style=\"color: #00af00; text-decoration-color: #00af00\">1280</span>)                │               <span style=\"color: #00af00; text-decoration-color: #00af00\">0</span> │\n",
              "│ (<span style=\"color: #0087ff; text-decoration-color: #0087ff\">GlobalAveragePooling2D</span>)             │                             │                 │\n",
              "├──────────────────────────────────────┼─────────────────────────────┼─────────────────┤\n",
              "│ dense_11 (<span style=\"color: #0087ff; text-decoration-color: #0087ff\">Dense</span>)                     │ (<span style=\"color: #00d7ff; text-decoration-color: #00d7ff\">None</span>, <span style=\"color: #00af00; text-decoration-color: #00af00\">512</span>)                 │         <span style=\"color: #00af00; text-decoration-color: #00af00\">655,872</span> │\n",
              "├──────────────────────────────────────┼─────────────────────────────┼─────────────────┤\n",
              "│ dropout_7 (<span style=\"color: #0087ff; text-decoration-color: #0087ff\">Dropout</span>)                  │ (<span style=\"color: #00d7ff; text-decoration-color: #00d7ff\">None</span>, <span style=\"color: #00af00; text-decoration-color: #00af00\">512</span>)                 │               <span style=\"color: #00af00; text-decoration-color: #00af00\">0</span> │\n",
              "├──────────────────────────────────────┼─────────────────────────────┼─────────────────┤\n",
              "│ dense_12 (<span style=\"color: #0087ff; text-decoration-color: #0087ff\">Dense</span>)                     │ (<span style=\"color: #00d7ff; text-decoration-color: #00d7ff\">None</span>, <span style=\"color: #00af00; text-decoration-color: #00af00\">512</span>)                 │         <span style=\"color: #00af00; text-decoration-color: #00af00\">262,656</span> │\n",
              "├──────────────────────────────────────┼─────────────────────────────┼─────────────────┤\n",
              "│ dropout_8 (<span style=\"color: #0087ff; text-decoration-color: #0087ff\">Dropout</span>)                  │ (<span style=\"color: #00d7ff; text-decoration-color: #00d7ff\">None</span>, <span style=\"color: #00af00; text-decoration-color: #00af00\">512</span>)                 │               <span style=\"color: #00af00; text-decoration-color: #00af00\">0</span> │\n",
              "├──────────────────────────────────────┼─────────────────────────────┼─────────────────┤\n",
              "│ dense_13 (<span style=\"color: #0087ff; text-decoration-color: #0087ff\">Dense</span>)                     │ (<span style=\"color: #00d7ff; text-decoration-color: #00d7ff\">None</span>, <span style=\"color: #00af00; text-decoration-color: #00af00\">1</span>)                   │             <span style=\"color: #00af00; text-decoration-color: #00af00\">513</span> │\n",
              "└──────────────────────────────────────┴─────────────────────────────┴─────────────────┘\n",
              "</pre>\n"
            ],
            "text/plain": [
              "┏━━━━━━━━━━━━━━━━━━━━━━━━━━━━━━━━━━━━━━┳━━━━━━━━━━━━━━━━━━━━━━━━━━━━━┳━━━━━━━━━━━━━━━━━┓\n",
              "┃\u001b[1m \u001b[0m\u001b[1mLayer (type)                        \u001b[0m\u001b[1m \u001b[0m┃\u001b[1m \u001b[0m\u001b[1mOutput Shape               \u001b[0m\u001b[1m \u001b[0m┃\u001b[1m \u001b[0m\u001b[1m        Param #\u001b[0m\u001b[1m \u001b[0m┃\n",
              "┡━━━━━━━━━━━━━━━━━━━━━━━━━━━━━━━━━━━━━━╇━━━━━━━━━━━━━━━━━━━━━━━━━━━━━╇━━━━━━━━━━━━━━━━━┩\n",
              "│ input_layer_14 (\u001b[38;5;33mInputLayer\u001b[0m)          │ (\u001b[38;5;45mNone\u001b[0m, \u001b[38;5;34m448\u001b[0m, \u001b[38;5;34m224\u001b[0m, \u001b[38;5;34m3\u001b[0m)         │               \u001b[38;5;34m0\u001b[0m │\n",
              "├──────────────────────────────────────┼─────────────────────────────┼─────────────────┤\n",
              "│ rescaling_4 (\u001b[38;5;33mRescaling\u001b[0m)              │ (\u001b[38;5;45mNone\u001b[0m, \u001b[38;5;34m448\u001b[0m, \u001b[38;5;34m224\u001b[0m, \u001b[38;5;34m3\u001b[0m)         │               \u001b[38;5;34m0\u001b[0m │\n",
              "├──────────────────────────────────────┼─────────────────────────────┼─────────────────┤\n",
              "│ mobilenetv2_1.00_224 (\u001b[38;5;33mFunctional\u001b[0m)    │ (\u001b[38;5;45mNone\u001b[0m, \u001b[38;5;34m14\u001b[0m, \u001b[38;5;34m7\u001b[0m, \u001b[38;5;34m1280\u001b[0m)         │       \u001b[38;5;34m2,257,984\u001b[0m │\n",
              "├──────────────────────────────────────┼─────────────────────────────┼─────────────────┤\n",
              "│ global_average_pooling2d_4           │ (\u001b[38;5;45mNone\u001b[0m, \u001b[38;5;34m1280\u001b[0m)                │               \u001b[38;5;34m0\u001b[0m │\n",
              "│ (\u001b[38;5;33mGlobalAveragePooling2D\u001b[0m)             │                             │                 │\n",
              "├──────────────────────────────────────┼─────────────────────────────┼─────────────────┤\n",
              "│ dense_11 (\u001b[38;5;33mDense\u001b[0m)                     │ (\u001b[38;5;45mNone\u001b[0m, \u001b[38;5;34m512\u001b[0m)                 │         \u001b[38;5;34m655,872\u001b[0m │\n",
              "├──────────────────────────────────────┼─────────────────────────────┼─────────────────┤\n",
              "│ dropout_7 (\u001b[38;5;33mDropout\u001b[0m)                  │ (\u001b[38;5;45mNone\u001b[0m, \u001b[38;5;34m512\u001b[0m)                 │               \u001b[38;5;34m0\u001b[0m │\n",
              "├──────────────────────────────────────┼─────────────────────────────┼─────────────────┤\n",
              "│ dense_12 (\u001b[38;5;33mDense\u001b[0m)                     │ (\u001b[38;5;45mNone\u001b[0m, \u001b[38;5;34m512\u001b[0m)                 │         \u001b[38;5;34m262,656\u001b[0m │\n",
              "├──────────────────────────────────────┼─────────────────────────────┼─────────────────┤\n",
              "│ dropout_8 (\u001b[38;5;33mDropout\u001b[0m)                  │ (\u001b[38;5;45mNone\u001b[0m, \u001b[38;5;34m512\u001b[0m)                 │               \u001b[38;5;34m0\u001b[0m │\n",
              "├──────────────────────────────────────┼─────────────────────────────┼─────────────────┤\n",
              "│ dense_13 (\u001b[38;5;33mDense\u001b[0m)                     │ (\u001b[38;5;45mNone\u001b[0m, \u001b[38;5;34m1\u001b[0m)                   │             \u001b[38;5;34m513\u001b[0m │\n",
              "└──────────────────────────────────────┴─────────────────────────────┴─────────────────┘\n"
            ]
          },
          "metadata": {},
          "output_type": "display_data"
        },
        {
          "data": {
            "text/html": [
              "<pre style=\"white-space:pre;overflow-x:auto;line-height:normal;font-family:Menlo,'DejaVu Sans Mono',consolas,'Courier New',monospace\"><span style=\"font-weight: bold\"> Total params: </span><span style=\"color: #00af00; text-decoration-color: #00af00\">3,177,025</span> (12.12 MB)\n",
              "</pre>\n"
            ],
            "text/plain": [
              "\u001b[1m Total params: \u001b[0m\u001b[38;5;34m3,177,025\u001b[0m (12.12 MB)\n"
            ]
          },
          "metadata": {},
          "output_type": "display_data"
        },
        {
          "data": {
            "text/html": [
              "<pre style=\"white-space:pre;overflow-x:auto;line-height:normal;font-family:Menlo,'DejaVu Sans Mono',consolas,'Courier New',monospace\"><span style=\"font-weight: bold\"> Trainable params: </span><span style=\"color: #00af00; text-decoration-color: #00af00\">919,041</span> (3.51 MB)\n",
              "</pre>\n"
            ],
            "text/plain": [
              "\u001b[1m Trainable params: \u001b[0m\u001b[38;5;34m919,041\u001b[0m (3.51 MB)\n"
            ]
          },
          "metadata": {},
          "output_type": "display_data"
        },
        {
          "data": {
            "text/html": [
              "<pre style=\"white-space:pre;overflow-x:auto;line-height:normal;font-family:Menlo,'DejaVu Sans Mono',consolas,'Courier New',monospace\"><span style=\"font-weight: bold\"> Non-trainable params: </span><span style=\"color: #00af00; text-decoration-color: #00af00\">2,257,984</span> (8.61 MB)\n",
              "</pre>\n"
            ],
            "text/plain": [
              "\u001b[1m Non-trainable params: \u001b[0m\u001b[38;5;34m2,257,984\u001b[0m (8.61 MB)\n"
            ]
          },
          "metadata": {},
          "output_type": "display_data"
        }
      ],
      "source": [
        "model_mobilenet2 = create_mobilenet_2_model(input_shape =  list(image_size)+[3], num_classes = len(class_names))\n",
        "model_mobilenet2.compile(\n",
        "    loss=tf.keras.losses.BinaryCrossentropy(label_smoothing=0.1) if len(class_names) == 2 else tf.keras.losses.categorical_crossentropy(from_logits=True, label_smoothing=0.1),\n",
        "    optimizer=tf.keras.optimizers.AdamW(),\n",
        "    metrics=[tf.keras.metrics.BinaryAccuracy()]\n",
        ")\n",
        "model_mobilenet2.summary()"
      ]
    },
    {
      "cell_type": "code",
      "execution_count": null,
      "metadata": {
        "id": "DoPValbqUfZt"
      },
      "outputs": [],
      "source": [
        "model_path=\"/content/best_check_point/{}_weights.best.keras\".format('mobilenetv2')\n",
        "callbacks = [\n",
        "    ReduceLROnPlateau(monitor='val_binary_accuracy', factor=0.75, patience=3, min_delta=0.001,\n",
        "                          mode='max', min_lr=1e-6, verbose=1),\n",
        "    ModelCheckpoint(model_path, monitor='val_binary_accuracy', verbose=1,\n",
        "                             save_best_only=True, mode='max', save_weights_only = False),\n",
        "    EarlyStopping(monitor='val_binary_accuracy',patience=6,verbose=1,mode='max',restore_best_weights = True)\n",
        "]"
      ]
    },
    {
      "cell_type": "code",
      "execution_count": null,
      "metadata": {},
      "outputs": [],
      "source": [
        "model_mobilenet2.compile(\n",
        "    loss=tf.keras.losses.BinaryCrossentropy(label_smoothing=0.1) if len(class_names) == 2 else tf.keras.losses.categorical_crossentropy(from_logits=True, label_smoothing=0.1),\n",
        "    optimizer=tf.keras.optimizers.AdamW(learning_rate=1e-4),\n",
        "    metrics=[tf.keras.metrics.BinaryAccuracy()]\n",
        ")"
      ]
    },
    {
      "cell_type": "code",
      "execution_count": null,
      "metadata": {
        "id": "Ur0oBnw9UjO-"
      },
      "outputs": [],
      "source": [
        "history_mobilenet2 = model_mobilenet2.fit(train_ds, validation_data=val_ds, verbose=1, epochs=5,class_weight =class_weights_dict,callbacks = callbacks)"
      ]
    },
    {
      "cell_type": "code",
      "execution_count": null,
      "metadata": {
        "id": "WUma9ONCeYpS"
      },
      "outputs": [],
      "source": [
        "model_mobilenet2.save('model_mobilenet2.keras')"
      ]
    },
    {
      "cell_type": "code",
      "execution_count": null,
      "metadata": {
        "id": "R7iUIuG7ZsdT"
      },
      "outputs": [],
      "source": [
        "y_pred_mobilenet2 = []\n",
        "y_true = []\n",
        "\n",
        "for images, labels in val_ds:\n",
        "    preds = model_mobilenet2.predict(images, verbose=0)\n",
        "    preds = tf.squeeze(preds)\n",
        "\n",
        "    y_pred_mobilenet2.extend([1 if x >= 0.5 else 0 for x in preds])\n",
        "    y_true.extend(labels.numpy())\n",
        "\n",
        "y_pred_mobilenet2 = np.array(y_pred_mobilenet2)\n",
        "y_true = np.array(y_true)"
      ]
    },
    {
      "cell_type": "code",
      "execution_count": null,
      "metadata": {
        "colab": {
          "base_uri": "https://localhost:8080/",
          "height": 640
        },
        "id": "XakJQ1oflZOz",
        "outputId": "115fb365-1418-4625-e85d-d665863be522"
      },
      "outputs": [
        {
          "name": "stdout",
          "output_type": "stream",
          "text": [
            "Accuracy: 0.9653738171987106\n",
            "Classification Report:\n",
            "              precision    recall  f1-score   support\n",
            "\n",
            "         0.0       0.97      0.96      0.96      4614\n",
            "         1.0       0.96      0.97      0.97      5003\n",
            "\n",
            "    accuracy                           0.97      9617\n",
            "   macro avg       0.97      0.96      0.97      9617\n",
            "weighted avg       0.97      0.97      0.97      9617\n",
            "\n"
          ]
        },
        {
          "data": {
            "image/png": "[encoded data removed]",
            "text/plain": [
              "<Figure size 640x480 with 2 Axes>"
            ]
          },
          "metadata": {},
          "output_type": "display_data"
        }
      ],
      "source": [
        "evaluation_model(y_true, y_pred_mobilenet2)"
      ]
    }
  ],
  "metadata": {
    "accelerator": "GPU",
    "colab": {
      "gpuType": "T4",
      "provenance": []
    },
    "kernelspec": {
      "display_name": "Python 3",
      "name": "python3"
    },
    "language_info": {
      "name": "python"
    }
  },
  "nbformat": 4,
  "nbformat_minor": 0
}
