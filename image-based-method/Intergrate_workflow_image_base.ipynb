{
  "cells": [
    {
      "cell_type": "markdown",
      "metadata": {
        "id": "I757xDuAUzwu"
      },
      "source": [
        "#Install libraries"
      ]
    },
    {
      "cell_type": "code",
      "execution_count": 1,
      "metadata": {
        "colab": {
          "base_uri": "https://localhost:8080/"
        },
        "id": "if7cjt39SC2G",
        "outputId": "bd0fc160-4dae-4644-f212-fad13e5dc4ce"
      },
      "outputs": [
        {
          "name": "stdout",
          "output_type": "stream",
          "text": [
            "Requirement already satisfied: deep_sort_realtime in c:\\users\\nhan\\appdata\\local\\programs\\python\\python310\\lib\\site-packages (1.3.2)\n",
            "Requirement already satisfied: ultralytics in c:\\users\\nhan\\appdata\\local\\programs\\python\\python310\\lib\\site-packages (8.3.3)\n",
            "Requirement already satisfied: scipy in c:\\users\\nhan\\appdata\\local\\programs\\python\\python310\\lib\\site-packages (from deep_sort_realtime) (1.11.1)\n",
            "Requirement already satisfied: numpy in c:\\users\\nhan\\appdata\\local\\programs\\python\\python310\\lib\\site-packages (from deep_sort_realtime) (1.26.2)\n",
            "Requirement already satisfied: opencv-python in c:\\users\\nhan\\appdata\\roaming\\python\\python310\\site-packages (from deep_sort_realtime) (4.8.1.78)\n",
            "Requirement already satisfied: pandas>=1.1.4 in c:\\users\\nhan\\appdata\\local\\programs\\python\\python310\\lib\\site-packages (from ultralytics) (2.0.3)\n",
            "Requirement already satisfied: torch!=2.4.0,>=1.8.0 in c:\\users\\nhan\\appdata\\local\\programs\\python\\python310\\lib\\site-packages (from ultralytics) (2.1.1)\n",
            "Requirement already satisfied: requests>=2.23.0 in c:\\users\\nhan\\appdata\\local\\programs\\python\\python310\\lib\\site-packages (from ultralytics) (2.31.0)\n",
            "Requirement already satisfied: py-cpuinfo in c:\\users\\nhan\\appdata\\local\\programs\\python\\python310\\lib\\site-packages (from ultralytics) (9.0.0)\n",
            "Requirement already satisfied: psutil in c:\\users\\nhan\\appdata\\local\\programs\\python\\python310\\lib\\site-packages (from ultralytics) (5.9.5)\n",
            "Requirement already satisfied: matplotlib>=3.3.0 in c:\\users\\nhan\\appdata\\local\\programs\\python\\python310\\lib\\site-packages (from ultralytics) (3.8.4)\n",
            "Requirement already satisfied: pillow>=7.1.2 in c:\\users\\nhan\\appdata\\local\\programs\\python\\python310\\lib\\site-packages (from ultralytics) (10.1.0)\n",
            "Requirement already satisfied: tqdm>=4.64.0 in c:\\users\\nhan\\appdata\\local\\programs\\python\\python310\\lib\\site-packages (from ultralytics) (4.65.0)\n",
            "Requirement already satisfied: torchvision>=0.9.0 in c:\\users\\nhan\\appdata\\local\\programs\\python\\python310\\lib\\site-packages (from ultralytics) (0.16.1)\n",
            "Requirement already satisfied: seaborn>=0.11.0 in c:\\users\\nhan\\appdata\\local\\programs\\python\\python310\\lib\\site-packages (from ultralytics) (0.13.2)\n",
            "Requirement already satisfied: ultralytics-thop>=2.0.0 in c:\\users\\nhan\\appdata\\local\\programs\\python\\python310\\lib\\site-packages (from ultralytics) (2.0.8)\n",
            "Requirement already satisfied: pyyaml>=5.3.1 in c:\\users\\nhan\\appdata\\local\\programs\\python\\python310\\lib\\site-packages (from ultralytics) (6.0)\n",
            "Requirement already satisfied: pyparsing>=2.3.1 in c:\\users\\nhan\\appdata\\local\\programs\\python\\python310\\lib\\site-packages (from matplotlib>=3.3.0->ultralytics) (3.1.2)\n",
            "Requirement already satisfied: cycler>=0.10 in c:\\users\\nhan\\appdata\\local\\programs\\python\\python310\\lib\\site-packages (from matplotlib>=3.3.0->ultralytics) (0.12.1)\n",
            "Requirement already satisfied: fonttools>=4.22.0 in c:\\users\\nhan\\appdata\\local\\programs\\python\\python310\\lib\\site-packages (from matplotlib>=3.3.0->ultralytics) (4.51.0)\n",
            "Requirement already satisfied: kiwisolver>=1.3.1 in c:\\users\\nhan\\appdata\\local\\programs\\python\\python310\\lib\\site-packages (from matplotlib>=3.3.0->ultralytics) (1.4.5)\n",
            "Requirement already satisfied: packaging>=20.0 in c:\\users\\nhan\\appdata\\local\\programs\\python\\python310\\lib\\site-packages (from matplotlib>=3.3.0->ultralytics) (23.1)\n",
            "Requirement already satisfied: python-dateutil>=2.7 in c:\\users\\nhan\\appdata\\local\\programs\\python\\python310\\lib\\site-packages (from matplotlib>=3.3.0->ultralytics) (2.8.2)\n",
            "Requirement already satisfied: contourpy>=1.0.1 in c:\\users\\nhan\\appdata\\local\\programs\\python\\python310\\lib\\site-packages (from matplotlib>=3.3.0->ultralytics) (1.2.1)\n",
            "Requirement already satisfied: pytz>=2020.1 in c:\\users\\nhan\\appdata\\local\\programs\\python\\python310\\lib\\site-packages (from pandas>=1.1.4->ultralytics) (2022.7.1)\n",
            "Requirement already satisfied: tzdata>=2022.1 in c:\\users\\nhan\\appdata\\local\\programs\\python\\python310\\lib\\site-packages (from pandas>=1.1.4->ultralytics) (2023.3)\n",
            "Requirement already satisfied: idna<4,>=2.5 in c:\\users\\nhan\\appdata\\local\\programs\\python\\python310\\lib\\site-packages (from requests>=2.23.0->ultralytics) (3.4)\n",
            "Requirement already satisfied: certifi>=2017.4.17 in c:\\users\\nhan\\appdata\\local\\programs\\python\\python310\\lib\\site-packages (from requests>=2.23.0->ultralytics) (2023.5.7)\n",
            "Requirement already satisfied: urllib3<3,>=1.21.1 in c:\\users\\nhan\\appdata\\local\\programs\\python\\python310\\lib\\site-packages (from requests>=2.23.0->ultralytics) (2.2.1)\n",
            "Requirement already satisfied: charset-normalizer<4,>=2 in c:\\users\\nhan\\appdata\\local\\programs\\python\\python310\\lib\\site-packages (from requests>=2.23.0->ultralytics) (3.1.0)\n",
            "Requirement already satisfied: typing-extensions in c:\\users\\nhan\\appdata\\local\\programs\\python\\python310\\lib\\site-packages (from torch!=2.4.0,>=1.8.0->ultralytics) (4.11.0)\n",
            "Requirement already satisfied: networkx in c:\\users\\nhan\\appdata\\local\\programs\\python\\python310\\lib\\site-packages (from torch!=2.4.0,>=1.8.0->ultralytics) (3.1)\n",
            "Requirement already satisfied: sympy in c:\\users\\nhan\\appdata\\local\\programs\\python\\python310\\lib\\site-packages (from torch!=2.4.0,>=1.8.0->ultralytics) (1.12)\n",
            "Requirement already satisfied: fsspec in c:\\users\\nhan\\appdata\\local\\programs\\python\\python310\\lib\\site-packages (from torch!=2.4.0,>=1.8.0->ultralytics) (2023.6.0)\n",
            "Requirement already satisfied: filelock in c:\\users\\nhan\\appdata\\local\\programs\\python\\python310\\lib\\site-packages (from torch!=2.4.0,>=1.8.0->ultralytics) (3.12.2)\n",
            "Requirement already satisfied: jinja2 in c:\\users\\nhan\\appdata\\local\\programs\\python\\python310\\lib\\site-packages (from torch!=2.4.0,>=1.8.0->ultralytics) (3.1.2)\n",
            "Requirement already satisfied: colorama in c:\\users\\nhan\\appdata\\local\\programs\\python\\python310\\lib\\site-packages (from tqdm>=4.64.0->ultralytics) (0.4.6)\n",
            "Requirement already satisfied: six>=1.5 in c:\\users\\nhan\\appdata\\local\\programs\\python\\python310\\lib\\site-packages (from python-dateutil>=2.7->matplotlib>=3.3.0->ultralytics) (1.16.0)\n",
            "Requirement already satisfied: MarkupSafe>=2.0 in c:\\users\\nhan\\appdata\\local\\programs\\python\\python310\\lib\\site-packages (from jinja2->torch!=2.4.0,>=1.8.0->ultralytics) (2.1.2)\n",
            "Requirement already satisfied: mpmath>=0.19 in c:\\users\\nhan\\appdata\\local\\programs\\python\\python310\\lib\\site-packages (from sympy->torch!=2.4.0,>=1.8.0->ultralytics) (1.3.0)\n"
          ]
        },
        {
          "name": "stderr",
          "output_type": "stream",
          "text": [
            "\n",
            "[notice] A new release of pip available: 22.3.1 -> 24.2\n",
            "[notice] To update, run: python.exe -m pip install --upgrade pip\n"
          ]
        }
      ],
      "source": [
        "!pip install deep_sort_realtime ultralytics"
      ]
    },
    {
      "cell_type": "markdown",
      "metadata": {
        "id": "db_LrUdJU3Y-"
      },
      "source": [
        "#Import linraries"
      ]
    },
    {
      "cell_type": "code",
      "execution_count": 2,
      "metadata": {
        "id": "uy3iN0hHSixv"
      },
      "outputs": [],
      "source": [
        "import torch\n",
        "import cv2\n",
        "import time\n",
        "from ultralytics import YOLO\n",
        "\n",
        "import time\n",
        "import torch\n",
        "import cv2\n",
        "import torch.backends.cudnn as cudnn\n",
        "from PIL import Image\n",
        "import colorsys\n",
        "import numpy as np\n",
        "import keras\n",
        "import os\n",
        "import torch\n",
        "from ultralytics import YOLO\n",
        "import tensorflow as tf\n",
        "from deep_sort_realtime.deepsort_tracker import DeepSort\n",
        "from tensorflow.keras.models import load_model\n",
        "import math"
      ]
    },
    {
      "cell_type": "markdown",
      "metadata": {
        "id": "3fflxGUjU5Su"
      },
      "source": [
        "#Load model"
      ]
    },
    {
      "cell_type": "code",
      "execution_count": 4,
      "metadata": {
        "colab": {
          "base_uri": "https://localhost:8080/"
        },
        "id": "KAj2_RRPSolu",
        "outputId": "afa314b3-1130-44d3-cd2d-34c9af40730d"
      },
      "outputs": [],
      "source": [
        "# Load YOLOv8 model\n",
        "# model = YOLO(\"yolov8x.pt\")\n",
        "model = YOLO(\"..\\pose-based-method\\yolov8n.pt\")\n"
      ]
    },
    {
      "cell_type": "code",
      "execution_count": 5,
      "metadata": {
        "colab": {
          "base_uri": "https://localhost:8080/",
          "height": 476
        },
        "id": "Fa_W4mFwxZ2T",
        "outputId": "4d218d6a-1d89-4c44-e931-892ed0e4e664"
      },
      "outputs": [
        {
          "data": {
            "text/html": [
              "<pre style=\"white-space:pre;overflow-x:auto;line-height:normal;font-family:Menlo,'DejaVu Sans Mono',consolas,'Courier New',monospace\"><span style=\"font-weight: bold\">Model: \"functional_36\"</span>\n",
              "</pre>\n"
            ],
            "text/plain": [
              "\u001b[1mModel: \"functional_36\"\u001b[0m\n"
            ]
          },
          "metadata": {},
          "output_type": "display_data"
        },
        {
          "data": {
            "text/html": [
              "<pre style=\"white-space:pre;overflow-x:auto;line-height:normal;font-family:Menlo,'DejaVu Sans Mono',consolas,'Courier New',monospace\">┏━━━━━━━━━━━━━━━━━━━━━━━━━━━━━━━━━┳━━━━━━━━━━━━━━━━━━━━━━━━┳━━━━━━━━━━━━━━━┓\n",
              "┃<span style=\"font-weight: bold\"> Layer (type)                    </span>┃<span style=\"font-weight: bold\"> Output Shape           </span>┃<span style=\"font-weight: bold\">       Param # </span>┃\n",
              "┡━━━━━━━━━━━━━━━━━━━━━━━━━━━━━━━━━╇━━━━━━━━━━━━━━━━━━━━━━━━╇━━━━━━━━━━━━━━━┩\n",
              "│ input_layer_14 (<span style=\"color: #0087ff; text-decoration-color: #0087ff\">InputLayer</span>)     │ (<span style=\"color: #00d7ff; text-decoration-color: #00d7ff\">None</span>, <span style=\"color: #00af00; text-decoration-color: #00af00\">448</span>, <span style=\"color: #00af00; text-decoration-color: #00af00\">224</span>, <span style=\"color: #00af00; text-decoration-color: #00af00\">3</span>)    │             <span style=\"color: #00af00; text-decoration-color: #00af00\">0</span> │\n",
              "├─────────────────────────────────┼────────────────────────┼───────────────┤\n",
              "│ rescaling_4 (<span style=\"color: #0087ff; text-decoration-color: #0087ff\">Rescaling</span>)         │ (<span style=\"color: #00d7ff; text-decoration-color: #00d7ff\">None</span>, <span style=\"color: #00af00; text-decoration-color: #00af00\">448</span>, <span style=\"color: #00af00; text-decoration-color: #00af00\">224</span>, <span style=\"color: #00af00; text-decoration-color: #00af00\">3</span>)    │             <span style=\"color: #00af00; text-decoration-color: #00af00\">0</span> │\n",
              "├─────────────────────────────────┼────────────────────────┼───────────────┤\n",
              "│ mobilenetv2_1.00_224            │ (<span style=\"color: #00d7ff; text-decoration-color: #00d7ff\">None</span>, <span style=\"color: #00af00; text-decoration-color: #00af00\">14</span>, <span style=\"color: #00af00; text-decoration-color: #00af00\">7</span>, <span style=\"color: #00af00; text-decoration-color: #00af00\">1280</span>)    │     <span style=\"color: #00af00; text-decoration-color: #00af00\">2,257,984</span> │\n",
              "│ (<span style=\"color: #0087ff; text-decoration-color: #0087ff\">Functional</span>)                    │                        │               │\n",
              "├─────────────────────────────────┼────────────────────────┼───────────────┤\n",
              "│ global_average_pooling2d_4      │ (<span style=\"color: #00d7ff; text-decoration-color: #00d7ff\">None</span>, <span style=\"color: #00af00; text-decoration-color: #00af00\">1280</span>)           │             <span style=\"color: #00af00; text-decoration-color: #00af00\">0</span> │\n",
              "│ (<span style=\"color: #0087ff; text-decoration-color: #0087ff\">GlobalAveragePooling2D</span>)        │                        │               │\n",
              "├─────────────────────────────────┼────────────────────────┼───────────────┤\n",
              "│ dense_11 (<span style=\"color: #0087ff; text-decoration-color: #0087ff\">Dense</span>)                │ (<span style=\"color: #00d7ff; text-decoration-color: #00d7ff\">None</span>, <span style=\"color: #00af00; text-decoration-color: #00af00\">512</span>)            │       <span style=\"color: #00af00; text-decoration-color: #00af00\">655,872</span> │\n",
              "├─────────────────────────────────┼────────────────────────┼───────────────┤\n",
              "│ dropout_7 (<span style=\"color: #0087ff; text-decoration-color: #0087ff\">Dropout</span>)             │ (<span style=\"color: #00d7ff; text-decoration-color: #00d7ff\">None</span>, <span style=\"color: #00af00; text-decoration-color: #00af00\">512</span>)            │             <span style=\"color: #00af00; text-decoration-color: #00af00\">0</span> │\n",
              "├─────────────────────────────────┼────────────────────────┼───────────────┤\n",
              "│ dense_12 (<span style=\"color: #0087ff; text-decoration-color: #0087ff\">Dense</span>)                │ (<span style=\"color: #00d7ff; text-decoration-color: #00d7ff\">None</span>, <span style=\"color: #00af00; text-decoration-color: #00af00\">512</span>)            │       <span style=\"color: #00af00; text-decoration-color: #00af00\">262,656</span> │\n",
              "├─────────────────────────────────┼────────────────────────┼───────────────┤\n",
              "│ dropout_8 (<span style=\"color: #0087ff; text-decoration-color: #0087ff\">Dropout</span>)             │ (<span style=\"color: #00d7ff; text-decoration-color: #00d7ff\">None</span>, <span style=\"color: #00af00; text-decoration-color: #00af00\">512</span>)            │             <span style=\"color: #00af00; text-decoration-color: #00af00\">0</span> │\n",
              "├─────────────────────────────────┼────────────────────────┼───────────────┤\n",
              "│ dense_13 (<span style=\"color: #0087ff; text-decoration-color: #0087ff\">Dense</span>)                │ (<span style=\"color: #00d7ff; text-decoration-color: #00d7ff\">None</span>, <span style=\"color: #00af00; text-decoration-color: #00af00\">1</span>)              │           <span style=\"color: #00af00; text-decoration-color: #00af00\">513</span> │\n",
              "└─────────────────────────────────┴────────────────────────┴───────────────┘\n",
              "</pre>\n"
            ],
            "text/plain": [
              "┏━━━━━━━━━━━━━━━━━━━━━━━━━━━━━━━━━┳━━━━━━━━━━━━━━━━━━━━━━━━┳━━━━━━━━━━━━━━━┓\n",
              "┃\u001b[1m \u001b[0m\u001b[1mLayer (type)                   \u001b[0m\u001b[1m \u001b[0m┃\u001b[1m \u001b[0m\u001b[1mOutput Shape          \u001b[0m\u001b[1m \u001b[0m┃\u001b[1m \u001b[0m\u001b[1m      Param #\u001b[0m\u001b[1m \u001b[0m┃\n",
              "┡━━━━━━━━━━━━━━━━━━━━━━━━━━━━━━━━━╇━━━━━━━━━━━━━━━━━━━━━━━━╇━━━━━━━━━━━━━━━┩\n",
              "│ input_layer_14 (\u001b[38;5;33mInputLayer\u001b[0m)     │ (\u001b[38;5;45mNone\u001b[0m, \u001b[38;5;34m448\u001b[0m, \u001b[38;5;34m224\u001b[0m, \u001b[38;5;34m3\u001b[0m)    │             \u001b[38;5;34m0\u001b[0m │\n",
              "├─────────────────────────────────┼────────────────────────┼───────────────┤\n",
              "│ rescaling_4 (\u001b[38;5;33mRescaling\u001b[0m)         │ (\u001b[38;5;45mNone\u001b[0m, \u001b[38;5;34m448\u001b[0m, \u001b[38;5;34m224\u001b[0m, \u001b[38;5;34m3\u001b[0m)    │             \u001b[38;5;34m0\u001b[0m │\n",
              "├─────────────────────────────────┼────────────────────────┼───────────────┤\n",
              "│ mobilenetv2_1.00_224            │ (\u001b[38;5;45mNone\u001b[0m, \u001b[38;5;34m14\u001b[0m, \u001b[38;5;34m7\u001b[0m, \u001b[38;5;34m1280\u001b[0m)    │     \u001b[38;5;34m2,257,984\u001b[0m │\n",
              "│ (\u001b[38;5;33mFunctional\u001b[0m)                    │                        │               │\n",
              "├─────────────────────────────────┼────────────────────────┼───────────────┤\n",
              "│ global_average_pooling2d_4      │ (\u001b[38;5;45mNone\u001b[0m, \u001b[38;5;34m1280\u001b[0m)           │             \u001b[38;5;34m0\u001b[0m │\n",
              "│ (\u001b[38;5;33mGlobalAveragePooling2D\u001b[0m)        │                        │               │\n",
              "├─────────────────────────────────┼────────────────────────┼───────────────┤\n",
              "│ dense_11 (\u001b[38;5;33mDense\u001b[0m)                │ (\u001b[38;5;45mNone\u001b[0m, \u001b[38;5;34m512\u001b[0m)            │       \u001b[38;5;34m655,872\u001b[0m │\n",
              "├─────────────────────────────────┼────────────────────────┼───────────────┤\n",
              "│ dropout_7 (\u001b[38;5;33mDropout\u001b[0m)             │ (\u001b[38;5;45mNone\u001b[0m, \u001b[38;5;34m512\u001b[0m)            │             \u001b[38;5;34m0\u001b[0m │\n",
              "├─────────────────────────────────┼────────────────────────┼───────────────┤\n",
              "│ dense_12 (\u001b[38;5;33mDense\u001b[0m)                │ (\u001b[38;5;45mNone\u001b[0m, \u001b[38;5;34m512\u001b[0m)            │       \u001b[38;5;34m262,656\u001b[0m │\n",
              "├─────────────────────────────────┼────────────────────────┼───────────────┤\n",
              "│ dropout_8 (\u001b[38;5;33mDropout\u001b[0m)             │ (\u001b[38;5;45mNone\u001b[0m, \u001b[38;5;34m512\u001b[0m)            │             \u001b[38;5;34m0\u001b[0m │\n",
              "├─────────────────────────────────┼────────────────────────┼───────────────┤\n",
              "│ dense_13 (\u001b[38;5;33mDense\u001b[0m)                │ (\u001b[38;5;45mNone\u001b[0m, \u001b[38;5;34m1\u001b[0m)              │           \u001b[38;5;34m513\u001b[0m │\n",
              "└─────────────────────────────────┴────────────────────────┴───────────────┘\n"
            ]
          },
          "metadata": {},
          "output_type": "display_data"
        },
        {
          "data": {
            "text/html": [
              "<pre style=\"white-space:pre;overflow-x:auto;line-height:normal;font-family:Menlo,'DejaVu Sans Mono',consolas,'Courier New',monospace\"><span style=\"font-weight: bold\"> Total params: </span><span style=\"color: #00af00; text-decoration-color: #00af00\">5,015,109</span> (19.13 MB)\n",
              "</pre>\n"
            ],
            "text/plain": [
              "\u001b[1m Total params: \u001b[0m\u001b[38;5;34m5,015,109\u001b[0m (19.13 MB)\n"
            ]
          },
          "metadata": {},
          "output_type": "display_data"
        },
        {
          "data": {
            "text/html": [
              "<pre style=\"white-space:pre;overflow-x:auto;line-height:normal;font-family:Menlo,'DejaVu Sans Mono',consolas,'Courier New',monospace\"><span style=\"font-weight: bold\"> Trainable params: </span><span style=\"color: #00af00; text-decoration-color: #00af00\">919,041</span> (3.51 MB)\n",
              "</pre>\n"
            ],
            "text/plain": [
              "\u001b[1m Trainable params: \u001b[0m\u001b[38;5;34m919,041\u001b[0m (3.51 MB)\n"
            ]
          },
          "metadata": {},
          "output_type": "display_data"
        },
        {
          "data": {
            "text/html": [
              "<pre style=\"white-space:pre;overflow-x:auto;line-height:normal;font-family:Menlo,'DejaVu Sans Mono',consolas,'Courier New',monospace\"><span style=\"font-weight: bold\"> Non-trainable params: </span><span style=\"color: #00af00; text-decoration-color: #00af00\">2,257,984</span> (8.61 MB)\n",
              "</pre>\n"
            ],
            "text/plain": [
              "\u001b[1m Non-trainable params: \u001b[0m\u001b[38;5;34m2,257,984\u001b[0m (8.61 MB)\n"
            ]
          },
          "metadata": {},
          "output_type": "display_data"
        },
        {
          "data": {
            "text/html": [
              "<pre style=\"white-space:pre;overflow-x:auto;line-height:normal;font-family:Menlo,'DejaVu Sans Mono',consolas,'Courier New',monospace\"><span style=\"font-weight: bold\"> Optimizer params: </span><span style=\"color: #00af00; text-decoration-color: #00af00\">1,838,084</span> (7.01 MB)\n",
              "</pre>\n"
            ],
            "text/plain": [
              "\u001b[1m Optimizer params: \u001b[0m\u001b[38;5;34m1,838,084\u001b[0m (7.01 MB)\n"
            ]
          },
          "metadata": {},
          "output_type": "display_data"
        }
      ],
      "source": [
        "#Load model\n",
        "model_normal = load_model('./model_mobilenet2.keras')\n",
        "model_normal.summary()"
      ]
    },
    {
      "cell_type": "code",
      "execution_count": 6,
      "metadata": {
        "id": "0J51yg3qyOAP"
      },
      "outputs": [],
      "source": [
        "def predict_fall(img):\n",
        "  global model_normal\n",
        "  if img is None or img.size == 0:\n",
        "    return False\n",
        "  img_resized = cv2.resize(img, (224,448))\n",
        "  img_rgb = cv2.cvtColor(img_resized, cv2.COLOR_BGR2RGB)\n",
        "  img_array = np.array(img_rgb)\n",
        "\n",
        "  img_array = np.expand_dims(img_array, axis=0)\n",
        "\n",
        "  predictions = model_normal.predict(img_array,verbose = 0)\n",
        "  return False if predictions[0][0] > 0.5 else True\n"
      ]
    },
    {
      "cell_type": "code",
      "execution_count": 7,
      "metadata": {
        "id": "n1Mo5qkZy2-g"
      },
      "outputs": [],
      "source": [
        "import time\n",
        "\n",
        "class ExpiringDict:\n",
        "    def __init__(self, expiry_time=5):\n",
        "        self.store = {}\n",
        "        self.expiry_time = expiry_time\n",
        "\n",
        "    def _remove_expired(self):\n",
        "        current_time = time.time()\n",
        "        keys_to_remove = [key for key, (value, timestamp) in self.store.items()\n",
        "                          if current_time - timestamp > self.expiry_time]\n",
        "        for key in keys_to_remove:\n",
        "            del self.store[key]\n",
        "\n",
        "    def __setitem__(self, key, value):\n",
        "        current_time = time.time()\n",
        "        self.store[key] = (value, current_time)\n",
        "        self._remove_expired()\n",
        "\n",
        "    def __getitem__(self, key):\n",
        "        self._remove_expired()\n",
        "        if key in self.store:\n",
        "            value, _ = self.store[key]\n",
        "            self.store[key] = (value, time.time())\n",
        "            return value\n",
        "        else:\n",
        "            raise KeyError(f\"Key '{key}' not found\")\n",
        "\n",
        "    def __delitem__(self, key):\n",
        "        self._remove_expired()\n",
        "        if key in self.store:\n",
        "            del self.store[key]\n",
        "        else:\n",
        "            raise KeyError(f\"Key '{key}' not found\")\n",
        "\n",
        "    def __contains__(self, key):\n",
        "        self._remove_expired()\n",
        "        if key in self.store:\n",
        "            value, _ = self.store[key]\n",
        "            self.store[key] = (value, time.time())\n",
        "            return True\n",
        "        return False\n",
        "\n",
        "    def __repr__(self):\n",
        "        self._remove_expired()\n",
        "        return repr({key: value for key, (value, _) in self.store.items()})"
      ]
    },
    {
      "cell_type": "code",
      "execution_count": 14,
      "metadata": {
        "id": "fpgNZUszwNMZ"
      },
      "outputs": [],
      "source": [
        "\n",
        "cap = cv2.VideoCapture(r'C:\\Users\\NHAN\\fall-detection\\pose-based-method\\data\\videos\\input\\input5.mp4')\n",
        "if not cap.isOpened():\n",
        "    raise IOError(\"Cannot open video\")\n",
        "\n",
        "ed = ExpiringDict(expiry_time=60)\n",
        "ed_sp = ExpiringDict(expiry_time=60)\n",
        "\n",
        "width = int(cap.get(cv2.CAP_PROP_FRAME_WIDTH))\n",
        "height = int(cap.get(cv2.CAP_PROP_FRAME_HEIGHT))\n",
        "fps = cap.get(cv2.CAP_PROP_FPS)\n",
        "\n",
        "tracker = DeepSort(max_age=int(fps),embedder=\"mobilenet\")\n",
        "\n",
        "\n",
        "fourcc = cv2.VideoWriter_fourcc(*'mp4v')\n",
        "out = cv2.VideoWriter(r'C:\\Users\\NHAN\\fall-detection\\pose-based-method\\data\\videos\\output\\output5_2.mp4', fourcc, fps, (width, height))\n",
        "while True:\n",
        "    ret, frame = cap.read()\n",
        "    if not ret:\n",
        "        break\n",
        "    results = model(frame,verbose = False)\n",
        "\n",
        "    detections = []\n",
        "    dict_yolo = {}\n",
        "    frame_copy = frame.copy()\n",
        "    for result in results:\n",
        "        boxes = result.boxes.xyxy.tolist()\n",
        "        classes = result.boxes.cls.tolist()\n",
        "        names = result.names\n",
        "        confidences = result.boxes.conf.tolist()\n",
        "\n",
        "        for box, cls, conf in zip(boxes, classes, confidences):\n",
        "          x1, y1, x2, y2 = box\n",
        "          w, h = x2 - x1, y2 - y1\n",
        "          confidence = conf\n",
        "          detected_class = cls\n",
        "          name = names[int(cls)]\n",
        "          if confidence > 0.5 and name == 'person':\n",
        "            tuple_people = (x1, y1, x2, y2)\n",
        "            dict_yolo[tuple_people] = 0\n",
        "            detections.append(([x1, y1, w, h], confidence, detected_class))\n",
        "    tracks = tracker.update_tracks(detections, frame=frame)\n",
        "\n",
        "    for track in tracks:\n",
        "        if not track.is_confirmed():\n",
        "            continue\n",
        "        track_id = track.track_id\n",
        "        bbox = track.to_ltrb()  # Get bounding box\n",
        "        x1, y1, x2, y2 = map(int, bbox)  # Convert coordinates to integers\n",
        "        if y1 < y2 and x1 < x2:\n",
        "          person_roi = frame[y1:y2,x1:x2]\n",
        "        else:\n",
        "          person_roi = None\n",
        "        value_fall = 0\n",
        "        if person_roi is not None:\n",
        "          is_fall = predict_fall(person_roi)\n",
        "          value_fall = 1 if is_fall else -1\n",
        "        if track_id not in ed or track_id not in ed_sp:\n",
        "            ed[track_id] = 0\n",
        "            ed_sp[track_id] = 0\n",
        "        ed[track_id] += value_fall\n",
        "        ed_sp[track_id] +=1\n",
        "        if ed[track_id] >= 0.2*fps:\n",
        "          cv2.putText(frame_copy, f\"FALL DETECTED ID: {ed[track_id]}\", (x1, y1 - 10), cv2.FONT_HERSHEY_SIMPLEX, 0.5, (0, 0, 255), 2)\n",
        "          cv2.rectangle(frame_copy, (x1, y1), (x2, y2), (0, 0, 255), 2)\n",
        "        else:\n",
        "          cv2.rectangle(frame_copy, (x1, y1), (x2, y2), (0, 255, 0), 2)\n",
        "          cv2.putText(frame_copy, f\"ID: {ed[track_id]}\", (x1, y1 - 10), cv2.FONT_HERSHEY_SIMPLEX, 0.5, (0, 255, 0), 2)\n",
        "\n",
        "        if ed_sp[track_id] > fps:\n",
        "          ed_sp[track_id] = 0\n",
        "          if  0 < ed[track_id] < 2:\n",
        "            ed[track_id] = 1\n",
        "          elif 0 > ed[track_id] > -2:\n",
        "            ed[track_id] = -1\n",
        "          elif ed[track_id] >= 0.2*fps:\n",
        "            ed[track_id] = int(0.2*fps) +1\n",
        "          elif ed[track_id] > 2:\n",
        "            ed[track_id] = int(min(fps*0.1,math.ceil(ed[track_id] / 2)))\n",
        "          else:\n",
        "            ed[track_id] = int(max(-1*fps*0.1, math.ceil(ed[track_id] / 2)))\n",
        "    out.write(frame_copy)\n",
        "\n",
        "cap.release()\n",
        "out.release()\n",
        "cv2.destroyAllWindows()"
      ]
    },
    {
      "cell_type": "code",
      "execution_count": null,
      "metadata": {},
      "outputs": [],
      "source": []
    }
  ],
  "metadata": {
    "accelerator": "GPU",
    "colab": {
      "collapsed_sections": [
        "tFanzYw8xNq7"
      ],
      "gpuType": "T4",
      "provenance": []
    },
    "kernelspec": {
      "display_name": "Python 3",
      "name": "python3"
    },
    "language_info": {
      "codemirror_mode": {
        "name": "ipython",
        "version": 3
      },
      "file_extension": ".py",
      "mimetype": "text/x-python",
      "name": "python",
      "nbconvert_exporter": "python",
      "pygments_lexer": "ipython3",
      "version": "3.10.9"
    }
  },
  "nbformat": 4,
  "nbformat_minor": 0
}
